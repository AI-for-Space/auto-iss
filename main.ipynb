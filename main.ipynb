{
 "cells": [
  {
   "cell_type": "code",
   "execution_count": 1,
   "id": "5c5bd37a-4a9f-4dd7-8b43-45762f3547e0",
   "metadata": {},
   "outputs": [],
   "source": [
    "from load_env import enviroment\n",
    "from agent import *\n",
    "import numpy as np"
   ]
  },
  {
   "cell_type": "code",
   "execution_count": 2,
   "id": "35866897-d8e0-464b-be89-1d0f90855681",
   "metadata": {},
   "outputs": [],
   "source": [
    "# Creación del agente\n",
    "\n",
    "agent = PPG(state_dim = 11,\n",
    "            num_actions = 13,\n",
    "            actor_hidden_dim = 32,\n",
    "            critic_hidden_dim = 256,\n",
    "            epochs = 1,\n",
    "            epochs_aux = 6,\n",
    "            minibatch_size = 64,\n",
    "            lr = 0.0005,\n",
    "            betas = (0.9, 0.999),\n",
    "            lam = 0.95,\n",
    "            gamma = 0.99,\n",
    "            beta_s = .01,\n",
    "            eps_clip = 0.2,\n",
    "            value_clip = 0.4,\n",
    "            save_path = 'ppg_0.pt')\n",
    "\n",
    "# Cargar modelo\n",
    "# agent.load(ppg_0.pt)"
   ]
  },
  {
   "cell_type": "code",
   "execution_count": 18,
   "id": "4e180ea9-3358-409e-8880-721b70815afd",
   "metadata": {},
   "outputs": [],
   "source": [
    "def train(env_name = 5555,agent = agent, num_episodes = 50000,max_steps = 500,update_steps = 5000,\n",
    "          num_policy_updates_per_aux = 32,seed = None, save_every = 1000):\n",
    "    \n",
    "    # Enviroment load\n",
    "    \n",
    "    env = enviroment(env_name)\n",
    "\n",
    "    memories = deque([])\n",
    "    aux_memories = deque([])\n",
    "\n",
    "    if exists(seed):\n",
    "        torch.manual_seed(seed)\n",
    "        np.random.seed(seed)\n",
    "\n",
    "    current_steps = 0\n",
    "    updated = False\n",
    "    num_policy_updates = 0\n",
    "\n",
    "    for eps in range(1,num_episodes+1):\n",
    "        for steps in tqdm(range(max_steps),ncols= 100, desc='Episode ' + str(eps) + '/' + str(num_episodes)):\n",
    "                \n",
    "            state = env.state()\n",
    "            state_tensor = torch.from_numpy(np.asarray(state)).float()\n",
    "            action_probs, _ = agent.actor(state_tensor)\n",
    "            value = agent.critic(state_tensor)\n",
    "\n",
    "            dist = Categorical(action_probs)\n",
    "            action = dist.sample()\n",
    "            action_log_prob = dist.log_prob(action)\n",
    "            action = action.item()\n",
    "            \n",
    "            next_state, reward, done = env.step(action,state)\n",
    "            memory = Memory(state, action, action_log_prob, reward, done, value)\n",
    "            memories.append(memory)\n",
    "            state = np.asarray(next_state)\n",
    "\n",
    "            if steps != 0 and steps % update_steps == 0:\n",
    "                agent.learn(memories, aux_memories, np.asarray(next_state))\n",
    "                num_policy_updates += 1\n",
    "                memories.clear()\n",
    "\n",
    "                if num_policy_updates % num_policy_updates_per_aux == 0:\n",
    "                    agent.learn_aux(aux_memories)\n",
    "                    aux_memories.clear()\n",
    "\n",
    "                updated = True\n",
    "\n",
    "            if done:\n",
    "                env.restart()\n",
    "                break\n",
    "                \n",
    "        if eps % save_every == 0:\n",
    "            agent.save()\n",
    "            \n",
    "    env.close()"
   ]
  },
  {
   "cell_type": "code",
   "execution_count": null,
   "id": "e882aeb3-fba0-4220-9ff3-79939214aa28",
   "metadata": {},
   "outputs": [],
   "source": [
    "train(env_name = 5555,\n",
    "      agent = agent,\n",
    "      num_episodes = 50000,\n",
    "      max_steps = 500,\n",
    "      update_steps = 10,\n",
    "      num_policy_updates_per_aux = 32,\n",
    "      seed = None,\n",
    "      save_every = 1000)"
   ]
  },
  {
   "cell_type": "code",
   "execution_count": null,
   "id": "d03e272a-5e36-4dbc-9405-8281207f4ccd",
   "metadata": {},
   "outputs": [],
   "source": []
  }
 ],
 "metadata": {
  "kernelspec": {
   "display_name": "Python 3 (ipykernel)",
   "language": "python",
   "name": "python3"
  },
  "language_info": {
   "codemirror_mode": {
    "name": "ipython",
    "version": 3
   },
   "file_extension": ".py",
   "mimetype": "text/x-python",
   "name": "python",
   "nbconvert_exporter": "python",
   "pygments_lexer": "ipython3",
   "version": "3.9.7"
  },
  "vscode": {
   "interpreter": {
    "hash": "712b1bb9f9b201a39d484bf33b5adf39a3ffc64a74a1ee9d3eda9d3b9b673373"
   }
  }
 },
 "nbformat": 4,
 "nbformat_minor": 5
}
