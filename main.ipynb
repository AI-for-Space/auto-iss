{
 "cells": [
  {
   "cell_type": "code",
   "execution_count": 1,
   "id": "584a24e4-c3ac-44c9-bccd-a385747ae473",
   "metadata": {},
   "outputs": [],
   "source": [
    "from load_env import enviroment\n",
    "import tensorflow as tf"
   ]
  },
  {
   "cell_type": "code",
   "execution_count": 36,
   "id": "8317e85c-6438-4d68-9a61-abc00ee110c3",
   "metadata": {},
   "outputs": [
    {
     "name": "stdout",
     "output_type": "stream",
     "text": [
      "Default GPU Device:/device:GPU:0\n"
     ]
    }
   ],
   "source": [
    "if tf.test.gpu_device_name(): \n",
    "    print('Default GPU Device:{}'.format(tf.test.gpu_device_name()))\n",
    "else:\n",
    "   print(\"Please install GPU version of TF\")"
   ]
  },
  {
   "cell_type": "code",
   "execution_count": 19,
   "id": "ded59e6f-ea49-44a5-8b1e-afe4b7e5da17",
   "metadata": {},
   "outputs": [
    {
     "name": "stdout",
     "output_type": "stream",
     "text": [
      "[INFO]Conectando con chrome...\n",
      "\n"
     ]
    },
    {
     "name": "stderr",
     "output_type": "stream",
     "text": [
      "[WDM] - ====== WebDriver manager ======\n",
      "[WDM] - Current google-chrome version is 103.0.5060\n",
      "[WDM] - Get LATEST chromedriver version for 103.0.5060 google-chrome\n",
      "[WDM] - Driver [C:\\Users\\danie\\.wdm\\drivers\\chromedriver\\win32\\103.0.5060.53\\chromedriver.exe] found in cache\n"
     ]
    }
   ],
   "source": [
    "env = enviroment(5555)"
   ]
  },
  {
   "cell_type": "code",
   "execution_count": 4,
   "id": "66a5dc17-1b0b-4633-961d-cacd1b32756d",
   "metadata": {},
   "outputs": [
    {
     "data": {
      "text/plain": [
       "{'x': 173.0, 'y': 20.0, 'z': 14.8, 'yaw': 5.0, 'roll': 19.0, 'pitch': 9.0}"
      ]
     },
     "execution_count": 4,
     "metadata": {},
     "output_type": "execute_result"
    }
   ],
   "source": [
    "env.state()"
   ]
  },
  {
   "cell_type": "code",
   "execution_count": 12,
   "id": "81805169-85ed-4822-acda-a06f15310d2f",
   "metadata": {},
   "outputs": [],
   "source": [
    "env.action()"
   ]
  },
  {
   "cell_type": "code",
   "execution_count": 20,
   "id": "c8b65857-931c-4521-9cc6-ef9e527eb4d8",
   "metadata": {},
   "outputs": [],
   "source": [
    "env.close()"
   ]
  },
  {
   "cell_type": "code",
   "execution_count": null,
   "id": "4e180ea9-3358-409e-8880-721b70815afd",
   "metadata": {},
   "outputs": [],
   "source": []
  }
 ],
 "metadata": {
  "kernelspec": {
   "display_name": "Python 3 (ipykernel)",
   "language": "python",
   "name": "python3"
  },
  "language_info": {
   "codemirror_mode": {
    "name": "ipython",
    "version": 3
   },
   "file_extension": ".py",
   "mimetype": "text/x-python",
   "name": "python",
   "nbconvert_exporter": "python",
   "pygments_lexer": "ipython3",
   "version": "3.8.10"
  },
  "vscode": {
   "interpreter": {
    "hash": "712b1bb9f9b201a39d484bf33b5adf39a3ffc64a74a1ee9d3eda9d3b9b673373"
   }
  }
 },
 "nbformat": 4,
 "nbformat_minor": 5
}
