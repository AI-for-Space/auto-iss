{
 "cells": [
  {
   "cell_type": "code",
   "execution_count": 8,
   "id": "7ca0b93b-f7f4-4870-96a0-59d08e9066b3",
   "metadata": {},
   "outputs": [],
   "source": [
    "from movement_agent import *"
   ]
  },
  {
   "cell_type": "code",
   "execution_count": 12,
   "id": "ed7f3943-de37-4a6f-a57f-b62ad8e1c6f1",
   "metadata": {},
   "outputs": [
    {
     "name": "stdout",
     "output_type": "stream",
     "text": [
      "Agente cardado correctamente\n",
      "Resultados del test guardados en: movement_net_10.csv\n",
      "Realizando 1000 episodios de 50 steps el agente tiene un porcentaje de éxito del 12.5%\n"
     ]
    }
   ],
   "source": [
    "agent_0 = PPG()\n",
    "\n",
    "agent_0.load('movement_net_10.pt')\n",
    "agent_0.test(max_episodes = 1000,max_steps = 50,save_csv = 'movement_net_10')"
   ]
  },
  {
   "cell_type": "code",
   "execution_count": 14,
   "id": "6f8ce3cd-6339-4dfd-ae5c-6943727fe6e9",
   "metadata": {},
   "outputs": [
    {
     "name": "stdout",
     "output_type": "stream",
     "text": [
      "Agente cardado correctamente\n",
      "Resultados del test guardados en: movement_net_30.csv\n",
      "Realizando 1000 episodios de 50 steps el agente tiene un porcentaje de éxito del 31.2%\n"
     ]
    }
   ],
   "source": [
    "agent_1 = PPG()\n",
    "\n",
    "agent_1.load('movement_net_30.pt')\n",
    "agent_1.test(max_episodes = 1000,max_steps = 50,save_csv = 'movement_net_30')"
   ]
  },
  {
   "cell_type": "code",
   "execution_count": 18,
   "id": "d0945acc-6a92-4540-960c-f06591f121fe",
   "metadata": {},
   "outputs": [
    {
     "name": "stdout",
     "output_type": "stream",
     "text": [
      "Agente cardado correctamente\n",
      "Resultados del test guardados en: movement_net_50.csv\n",
      "Realizando 1000 episodios de 50 steps el agente tiene un porcentaje de éxito del 50.9%\n"
     ]
    }
   ],
   "source": [
    "agent_2 = PPG()\n",
    "\n",
    "agent_2.load('movement_net_50.pt')\n",
    "agent_2.test(max_episodes = 1000,max_steps = 50,save_csv = 'movement_net_50')"
   ]
  },
  {
   "cell_type": "code",
   "execution_count": 19,
   "id": "0b647f1b-2b94-470b-aadf-e6dac3f52bdf",
   "metadata": {},
   "outputs": [
    {
     "name": "stdout",
     "output_type": "stream",
     "text": [
      "Agente cardado correctamente\n",
      "Resultados del test guardados en: movement_net_60.csv\n",
      "Realizando 1000 episodios de 50 steps el agente tiene un porcentaje de éxito del 64.5%\n"
     ]
    }
   ],
   "source": [
    "agent_3 = PPG()\n",
    "\n",
    "agent_3.load('movement_net_60.pt')\n",
    "agent_3.test(max_episodes = 1000,max_steps = 50,save_csv = 'movement_net_60')"
   ]
  }
 ],
 "metadata": {
  "kernelspec": {
   "display_name": "Python 3 (ipykernel)",
   "language": "python",
   "name": "python3"
  },
  "language_info": {
   "codemirror_mode": {
    "name": "ipython",
    "version": 3
   },
   "file_extension": ".py",
   "mimetype": "text/x-python",
   "name": "python",
   "nbconvert_exporter": "python",
   "pygments_lexer": "ipython3",
   "version": "3.9.7"
  }
 },
 "nbformat": 4,
 "nbformat_minor": 5
}
