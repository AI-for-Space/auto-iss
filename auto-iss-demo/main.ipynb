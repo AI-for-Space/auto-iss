{
 "cells": [
  {
   "cell_type": "code",
   "execution_count": 1,
   "id": "5c5bd37a-4a9f-4dd7-8b43-45762f3547e0",
   "metadata": {},
   "outputs": [],
   "source": [
    "from DEMO import *"
   ]
  },
  {
   "cell_type": "code",
   "execution_count": 2,
   "id": "35866897-d8e0-464b-be89-1d0f90855681",
   "metadata": {},
   "outputs": [
    {
     "name": "stdout",
     "output_type": "stream",
     "text": [
      "Agente cardado correctamente\n",
      "Agente cardado correctamente\n"
     ]
    }
   ],
   "source": [
    "# Creación de los agentes\n",
    "\n",
    "orientation_agent = PPG()\n",
    "movement_agent = PPG()\n",
    "# Cargar modelo\n",
    "orientation_agent.load('orientation_net.pt')\n",
    "movement_agent.load('movement_net.pt')"
   ]
  },
  {
   "cell_type": "code",
   "execution_count": null,
   "id": "3fdecad8-b45b-47e8-9f1b-9b023ad2d9fb",
   "metadata": {},
   "outputs": [
    {
     "name": "stdout",
     "output_type": "stream",
     "text": [
      "[INFO] Conectando con chrome...\n",
      "\n"
     ]
    },
    {
     "name": "stderr",
     "output_type": "stream",
     "text": [
      "[WDM] - ====== WebDriver manager ======\n",
      "[WDM] - Current google-chrome version is 104.0.5112\n",
      "[WDM] - Get LATEST chromedriver version for 104.0.5112 google-chrome\n",
      "[WDM] - About to download new driver from https://chromedriver.storage.googleapis.com/104.0.5112.79/chromedriver_win32.zip\n",
      "[WDM] - Driver has been saved in cache [C:\\Users\\danie\\.wdm\\drivers\\chromedriver\\win32\\104.0.5112.79]\n"
     ]
    },
    {
     "name": "stdout",
     "output_type": "stream",
     "text": [
      "[INFO] Conexión establecida\n",
      "Rotations\n",
      "[1, 2, 2, 0, 2, 2, 1, 2, 2, 0, 2, 1]\n",
      "Calibrate\n",
      "Z_R = 0\n",
      "new_z_R = -1.0\n",
      "Movement: \n",
      "[2, 0]\n",
      "Action = 2\n",
      "Z = -1.0\n",
      "new_z = -0.0\n",
      "Action = 0\n",
      "X = 7.0\n",
      "new_X = 6.0\n",
      "Action = 0\n",
      "X = 6.0\n",
      "new_X = 5.0\n",
      "1"
     ]
    }
   ],
   "source": [
    "play_demo(orientation_agent,movement_agent)"
   ]
  },
  {
   "cell_type": "code",
   "execution_count": null,
   "id": "115f408e-583d-4bbf-8818-24f1c9818a99",
   "metadata": {},
   "outputs": [],
   "source": []
  }
 ],
 "metadata": {
  "kernelspec": {
   "display_name": "Python 3 (ipykernel)",
   "language": "python",
   "name": "python3"
  },
  "language_info": {
   "codemirror_mode": {
    "name": "ipython",
    "version": 3
   },
   "file_extension": ".py",
   "mimetype": "text/x-python",
   "name": "python",
   "nbconvert_exporter": "python",
   "pygments_lexer": "ipython3",
   "version": "3.9.7"
  },
  "vscode": {
   "interpreter": {
    "hash": "712b1bb9f9b201a39d484bf33b5adf39a3ffc64a74a1ee9d3eda9d3b9b673373"
   }
  }
 },
 "nbformat": 4,
 "nbformat_minor": 5
}
