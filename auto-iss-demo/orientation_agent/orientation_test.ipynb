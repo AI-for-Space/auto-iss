{
 "cells": [
  {
   "cell_type": "code",
   "execution_count": 1,
   "id": "7ca0b93b-f7f4-4870-96a0-59d08e9066b3",
   "metadata": {},
   "outputs": [],
   "source": [
    "from orientation_agent import *"
   ]
  },
  {
   "cell_type": "code",
   "execution_count": 7,
   "id": "3692993d-4932-4c0c-b28d-1fbc3ac39bac",
   "metadata": {},
   "outputs": [
    {
     "name": "stdout",
     "output_type": "stream",
     "text": [
      "Agente cardado correctamente\n",
      "Resultados del test guardados en: orientation_net_50K.csv\n",
      "Realizando 1000 episodios de 20 steps el agente tiene un porcentaje de éxito del 70.1%\n"
     ]
    }
   ],
   "source": [
    "agent_0 = PPG()\n",
    "\n",
    "agent_0.load('orientation_net_50K.pt')\n",
    "agent_0.test(max_episodes = 1000,max_steps = 20,save_csv = 'orientation_net_50K')"
   ]
  },
  {
   "cell_type": "code",
   "execution_count": 14,
   "id": "6f8ce3cd-6339-4dfd-ae5c-6943727fe6e9",
   "metadata": {},
   "outputs": [
    {
     "name": "stdout",
     "output_type": "stream",
     "text": [
      "Agente cardado correctamente\n",
      "Resultados del test guardados en: orientation_net_100K.csv\n",
      "Realizando 1000 episodios de 30 steps el agente tiene un porcentaje de éxito del 90.9%\n"
     ]
    }
   ],
   "source": [
    "agent_1 = PPG()\n",
    "\n",
    "agent_1.load('orientation_net_100K.pt')\n",
    "agent_1.test(max_episodes = 1000,max_steps = 30,save_csv = 'orientation_net_100K')"
   ]
  },
  {
   "cell_type": "code",
   "execution_count": 15,
   "id": "c6f88dee-718c-42b6-a1d5-9bc4bb7ff496",
   "metadata": {},
   "outputs": [
    {
     "name": "stdout",
     "output_type": "stream",
     "text": [
      "Agente cardado correctamente\n",
      "Resultados del test guardados en: orientation_net_500K.csv\n",
      "Realizando 1000 episodios de 30 steps el agente tiene un porcentaje de éxito del 93.30000000000001%\n"
     ]
    }
   ],
   "source": [
    "agent_2 = PPG()\n",
    "\n",
    "agent_2.load('orientation_net_500K.pt')\n",
    "agent_2.test(max_episodes = 1000,max_steps = 30,save_csv = 'orientation_net_500K')"
   ]
  },
  {
   "cell_type": "code",
   "execution_count": 13,
   "id": "b791a858-bfda-43c8-8aad-431d96301091",
   "metadata": {},
   "outputs": [
    {
     "name": "stdout",
     "output_type": "stream",
     "text": [
      "Agente cardado correctamente\n",
      "Resultados del test guardados en: orientation_net_700K.csv\n",
      "Realizando 1000 episodios de 30 steps el agente tiene un porcentaje de éxito del 93.8%\n"
     ]
    }
   ],
   "source": [
    "agent_3 = PPG()\n",
    "\n",
    "agent_3.load('orientation_net_700K.pt')\n",
    "agent_3.test(max_episodes = 1000,max_steps = 30,save_csv = 'orientation_net_700K')"
   ]
  },
  {
   "cell_type": "code",
   "execution_count": 3,
   "id": "46f9ef1f-aa8d-4504-aef6-3fad97ffbe73",
   "metadata": {},
   "outputs": [
    {
     "name": "stdout",
     "output_type": "stream",
     "text": [
      "Agente cardado correctamente\n",
      "Resultados del test guardados en: orientation_net_1M.csv\n",
      "Realizando 1000 episodios de 30 steps el agente tiene un porcentaje de éxito del 88.0%\n"
     ]
    }
   ],
   "source": [
    "agent_4 = PPG()\n",
    "\n",
    "agent_4.load('orientation_net_1M.pt')\n",
    "agent_4.test(max_episodes = 1000,max_steps = 30,save_csv = 'orientation_net_1M')"
   ]
  },
  {
   "cell_type": "code",
   "execution_count": 9,
   "id": "2a0a5bd3-1f5d-4dfd-87ee-5d12aa609023",
   "metadata": {},
   "outputs": [
    {
     "name": "stdout",
     "output_type": "stream",
     "text": [
      "Agente cardado correctamente\n",
      "Resultados del test guardados en: orientation_net_3M.pt.csv\n",
      "Realizando 1000 episodios de 30 steps el agente tiene un porcentaje de éxito del 92.2%\n"
     ]
    }
   ],
   "source": [
    "agent_5 = PPG()\n",
    "\n",
    "agent_5.load('orientation_net_3M.pt')\n",
    "agent_5.test(max_episodes = 1000,max_steps = 30,save_csv = 'orientation_net_3M')"
   ]
  }
 ],
 "metadata": {
  "kernelspec": {
   "display_name": "Python 3 (ipykernel)",
   "language": "python",
   "name": "python3"
  },
  "language_info": {
   "codemirror_mode": {
    "name": "ipython",
    "version": 3
   },
   "file_extension": ".py",
   "mimetype": "text/x-python",
   "name": "python",
   "nbconvert_exporter": "python",
   "pygments_lexer": "ipython3",
   "version": "3.9.7"
  },
  "vscode": {
   "interpreter": {
    "hash": "712b1bb9f9b201a39d484bf33b5adf39a3ffc64a74a1ee9d3eda9d3b9b673373"
   }
  }
 },
 "nbformat": 4,
 "nbformat_minor": 5
}
